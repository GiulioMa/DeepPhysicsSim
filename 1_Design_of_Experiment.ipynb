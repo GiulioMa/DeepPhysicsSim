{
 "cells": [
  {
   "cell_type": "markdown",
   "id": "0cb834d5",
   "metadata": {},
   "source": [
    "# LPBF Cube Printing Experiment Overview\n",
    "\n",
    "## Objective\n",
    "This experiment investigates the Laser Powder Bed Fusion (LPBF) process, specifically the potential to identify transitions in melting regimes. The main goal is to determine if the optical data, both on-axis emissions and off-axis reflections, from the process zone can indicate such transitions.\n",
    "\n",
    "## Methodology\n",
    "- Printing: Cubes were printed using an LPBF machine with varied processing parameters.\n",
    "- Optical Data: The on-axis emission and off-axis reflections from the process zone were captured.\n",
    "- Parameter Alteration: Each cube has 320 lines. The parameters, which include laser power and scan speed, are altered every 10 lines, resulting in 32 unique parameter sets.\n",
    "- Data Documentation: Separate data files were recorded for each 10-line segment with its specific parameter set.\n",
    "\n",
    "## Details of the Cubes\n",
    "\n",
    "### Cube 2 and Cube 5: Consistency Check\n",
    "- Description: Both cubes are identical in construction and parameters. They were printed in different positions within the LPBF setup to assess consistency and reproducibility.\n",
    "- Processing Parameters: These cubes utilized 32 different parameter sets, changing every 10 lines. The specifics of these sets, including scan speed, laser power, and laser power as a percentage of maximum power, can be found in the attached spreadsheet.\n",
    "\n",
    "### Cube 1, Cube 3, and Cube 4: Positional Impact Assessment\n",
    "- General: These cubes were crafted to study the effect of sample positioning on data collection.\n",
    "- Cube 1: Begins with 12 distinct parameters for the initial 120 lines. For the subsequent 200 lines, it uses a constant power of 140W, adjusting the scan speed between 300 and 2500 mm/s.\n",
    "- Cube 3: Starts similarly to Cube 1. However, for the latter 200 lines, it employs a power of 110W with speeds ranging from 100 to 1800 mm/s. It's notable that Cube 3 has a concave curved surface.\n",
    "- Cube 4: Uses the same 12 parameters as the above cubes for the first 120 lines. The last 200 lines are set at 80W power, with speeds fluctuating between 100 and 1600 mm/s.\n",
    "\n",
    "All specific parameters for these cubes are detailed in the spreadsheet accompanying this repo.\n"
   ]
  }
 ],
 "metadata": {
  "kernelspec": {
   "display_name": "Python 3 (ipykernel)",
   "language": "python",
   "name": "python3"
  },
  "language_info": {
   "codemirror_mode": {
    "name": "ipython",
    "version": 3
   },
   "file_extension": ".py",
   "mimetype": "text/x-python",
   "name": "python",
   "nbconvert_exporter": "python",
   "pygments_lexer": "ipython3",
   "version": "3.10.6"
  }
 },
 "nbformat": 4,
 "nbformat_minor": 5
}
