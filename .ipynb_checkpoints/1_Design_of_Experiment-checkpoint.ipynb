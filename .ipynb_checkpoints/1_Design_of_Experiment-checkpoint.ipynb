{
 "cells": [
  {
   "cell_type": "markdown",
   "id": "0cb834d5",
   "metadata": {},
   "source": [
    "# ****README for LPBF Cube Printing Experiment****\n",
    "\n",
    "### **Experiment Description**\n",
    "\n",
    "This experiment aims to explore the feasibility of discerning transitions in melting regimes during the Laser Powder Bed Fusion (LPBF) process. The primary objective is to understand whether the on-axis optical emission and off-axis optical reflection data from the process zone can reveal transitions in the melting regimes. Five cubes were printed using varying sets of processing parameters, with each cube consisting of 320 lines. The parameters change every 10 lines, and the respective optical data is recorded in separate files for each set of 10 lines.\n",
    "\n",
    "### **Methodology**\n",
    "\n",
    "1. **LPBF Setup**: An LPBF machine was used to print cubes with varying processing parameters.\n",
    "2. **Optical Data Collection**: On-axis optical emission from the process zone and off-axis optical reflections were recorded.\n",
    "3. **Parameter Variation**: Each cube is made up of 320 lines, and the parameters (laser power and scan speed) change every 10 lines. A total of 32 different sets of parameters were used.\n",
    "4. **Data Recording**: For each set of 10 lines corresponding to a specific parameter set, a separate data file was recorded.\n",
    "\n",
    "### **Cube 2 and Cube 5**\n",
    "\n",
    "#### General Description\n",
    "\n",
    "Cube 2 and Cube 5 serve as the primary focus of this experiment and are identical in terms of their construction and processing parameters. They were repeated in different positions within the LPBF setup to evaluate consistency and reproducibility.\n",
    "\n",
    "#### Processing Parameters\n",
    "\n",
    "Both cubes were printed using a total of 32 sets of parameters, which change every 10 lines. The parameters for each set are listed in the spreadsheet attached to this README. The parameters include:\n",
    "- Scan speed (mm/s)\n",
    "- Laser power (W)\n",
    "- Laser power percentage of max power (%)\n",
    "\n",
    "### **Cube 1, Cube 3, and Cube 4**\n",
    "\n",
    "#### General Description\n",
    "\n",
    "Cube 1, Cube 3, and Cube 4 were designed to assess the impact of sample position on the collected data. Each of these cubes starts with 12 selectively sampled parameters for the first 120 lines and then employs a different constant power level for the remaining 200 lines while varying the scanning speed.\n",
    "\n",
    "#### Processing Parameters\n",
    "\n",
    "- **Cube 1**: Starts with 12 selectively sampled parameters. For the remaining 200 lines, the power is fixed at 140W, and the scan speed varies from 300 to 2500 mm/s.\n",
    "- **Cube 3**: Similar to Cube 1 but with a fixed power of 110W and speeds from 100 to 1800 mm/s for the remaining 200 lines.\n",
    "- **Cube 4**: Also starts with the same 12 selectively sampled parameters, but for the remaining lines, the power is fixed at 80W and the speed ranges from 100 to 1600 mm/s.\n",
    "\n",
    "The respective parameters for these cubes are also listed in the spreadsheet attached to this README.\n",
    "\n"
   ]
  }
 ],
 "metadata": {
  "kernelspec": {
   "display_name": "Python 3 (ipykernel)",
   "language": "python",
   "name": "python3"
  },
  "language_info": {
   "codemirror_mode": {
    "name": "ipython",
    "version": 3
   },
   "file_extension": ".py",
   "mimetype": "text/x-python",
   "name": "python",
   "nbconvert_exporter": "python",
   "pygments_lexer": "ipython3",
   "version": "3.11.4"
  }
 },
 "nbformat": 4,
 "nbformat_minor": 5
}
